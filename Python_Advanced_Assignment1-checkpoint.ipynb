{
 "cells": [
  {
   "cell_type": "markdown",
   "id": "2b047d3c",
   "metadata": {},
   "source": [
    "# Assignemnet-1"
   ]
  },
  {
   "cell_type": "markdown",
   "id": "78b69aa7",
   "metadata": {},
   "source": [
    "Q1. What is the purpose of Python&#39;s OOP?\n"
   ]
  },
  {
   "cell_type": "markdown",
   "id": "9817ad4d",
   "metadata": {},
   "source": [
    "Ans-1 Object oriented Programing help the program easy to understand. It help to reuse the code as the class is sharable. It help to keep our data safe and secure with abstraction class."
   ]
  },
  {
   "cell_type": "markdown",
   "id": "529f328d",
   "metadata": {},
   "source": [
    "Q2. Where does an inheritance search look for an attribute?"
   ]
  },
  {
   "cell_type": "markdown",
   "id": "b894c0e8",
   "metadata": {},
   "source": [
    " Ans-2 An inheritance search looks for an attribute first in the instance object, then in the class the instance was created from, then in all higher superclasses."
   ]
  },
  {
   "cell_type": "markdown",
   "id": "1e210ab1",
   "metadata": {},
   "source": [
    "Q3. How do you distinguish between a class object and an instance object?"
   ]
  },
  {
   "cell_type": "markdown",
   "id": "a5a0148b",
   "metadata": {},
   "source": [
    "Ans 3- Class Object: The class itself, defined using the class keyword. It is used as a blueprint to create instance objects. It defines attributes and methods that will be shared by all instances of the class.\n",
    "       \n",
    "        Instance Object: A specific object created from a class. Each instance has its own set of attributes and can execute methods defined in the class. Instances are created by calling the class as a function."
   ]
  },
  {
   "cell_type": "markdown",
   "id": "fed76fbc",
   "metadata": {},
   "source": [
    "Q4. What makes the first argument in a class’s method function special?"
   ]
  },
  {
   "cell_type": "markdown",
   "id": "c8e7fbfe",
   "metadata": {},
   "source": [
    "Ans-4 The first parameter of a class method function is named as 'self'. This parameter is special because it refers to the instance of the class that is method is called on. This method is special because intance context, Attribute access, Method Invocation"
   ]
  },
  {
   "cell_type": "markdown",
   "id": "6001a732",
   "metadata": {},
   "source": [
    "Q5. What is the purpose of the __init__ method?"
   ]
  },
  {
   "cell_type": "markdown",
   "id": "225274fb",
   "metadata": {},
   "source": [
    "Ans-5 The __init__ method used in python as a constructor to intialize the object's state. The task of the constructor is to assign values to the data members of the class when an object of a class is created "
   ]
  },
  {
   "cell_type": "markdown",
   "id": "2fb8bd3a",
   "metadata": {},
   "source": [
    "Q6. What is the process for creating a class instance?"
   ]
  },
  {
   "cell_type": "code",
   "execution_count": 19,
   "id": "36d56f32",
   "metadata": {},
   "outputs": [
    {
     "data": {
      "text/plain": [
       "'Car 2023'"
      ]
     },
     "execution_count": 19,
     "metadata": {},
     "output_type": "execute_result"
    }
   ],
   "source": [
    "\"\"\"The process for creating a class instance involves defining the class, instantiating the class to create an instance,\n",
    "initializing attributes through the __init__ method, and then using the instance to access attributes and call methods.\"\"\"\n",
    "\"Example\"\n",
    "class Car:\n",
    "    def __init__(self,make,model):\n",
    "        self.make=make\n",
    "        self.model=model\n",
    "    def info(self):\n",
    "        return f\"{self.make} {self.model}\"\n",
    "my_car=Car('Car',2023)\n",
    "my_car.info()"
   ]
  },
  {
   "cell_type": "markdown",
   "id": "70cdf0f7",
   "metadata": {},
   "source": [
    "Q7. What is the process for creating a class?"
   ]
  },
  {
   "cell_type": "code",
   "execution_count": 21,
   "id": "8723c16b",
   "metadata": {},
   "outputs": [
    {
     "name": "stdout",
     "output_type": "stream",
     "text": [
      "i am Rio and my age is 2\n",
      "Woof\n"
     ]
    }
   ],
   "source": [
    "\"\"\"The process of creating a class involve defining the class,setting up attributes and methods and then \n",
    "   creating instances of the class to work with those attributes and methods.\"\"\"\n",
    "class Dog:\n",
    "    def __init__(self,name,age):\n",
    "        self.name=name\n",
    "        self.age=age\n",
    "    def bark(self):\n",
    "        return \"Woof\"\n",
    "    def intro(self):\n",
    "        return f\"i am {self.name} and my age is {self.age}\"\n",
    "dog=Dog(\"Rio\",2)\n",
    "print(dog.intro())\n",
    "print(dog.bark())"
   ]
  },
  {
   "cell_type": "markdown",
   "id": "acece234",
   "metadata": {},
   "source": [
    "Q8. How would you define the superclasses of a class?"
   ]
  },
  {
   "cell_type": "code",
   "execution_count": 27,
   "id": "961732c7",
   "metadata": {},
   "outputs": [
    {
     "data": {
      "text/plain": [
       "'White'"
      ]
     },
     "execution_count": 27,
     "metadata": {},
     "output_type": "execute_result"
    }
   ],
   "source": [
    "\"\"\"When defining subclasses, you typically use the super() function to call the constructor of the superclass.\n",
    "   This ensures that the attributes and behavior of the superclass are properly initialized.\"\"\"\n",
    "class Animal:\n",
    "    def __init__(self, species):\n",
    "        self.species = species\n",
    "class Mammal(Animal):\n",
    "    def __init__(self,species,fur_color):\n",
    "        super().__init__(species)\n",
    "        self.fur_color=fur_color\n",
    "class Dog(Mammal):\n",
    "    def __init__(self, species, fur_color, breed):\n",
    "        super().__init__(species, fur_color)\n",
    "        self.breed = breed\n",
    "dog=Dog(\"canine\",\"White\",\"lebra\")\n",
    "dog.fur_color"
   ]
  },
  {
   "cell_type": "code",
   "execution_count": null,
   "id": "184f0e4f",
   "metadata": {},
   "outputs": [],
   "source": []
  }
 ],
 "metadata": {
  "kernelspec": {
   "display_name": "Python 3 (ipykernel)",
   "language": "python",
   "name": "python3"
  },
  "language_info": {
   "codemirror_mode": {
    "name": "ipython",
    "version": 3
   },
   "file_extension": ".py",
   "mimetype": "text/x-python",
   "name": "python",
   "nbconvert_exporter": "python",
   "pygments_lexer": "ipython3",
   "version": "3.9.7"
  }
 },
 "nbformat": 4,
 "nbformat_minor": 5
}
